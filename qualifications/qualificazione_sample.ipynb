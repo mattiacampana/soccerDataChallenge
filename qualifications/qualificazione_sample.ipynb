{
 "cells": [
  {
   "cell_type": "markdown",
   "metadata": {},
   "source": [
    "## esempio di calcolo: dato un punto sul campo, calcolarne la distanza euclidea dalla porta\n",
    "\n",
    "Soluzione: \n",
    "\n",
    "La distanza euclidea tra due punti è definita come:\n",
    "\n",
    "$$distance = \\sqrt{\\Delta y^2 + \\Delta x^2}$$\n",
    "\n",
    "Dove $ \\Delta y $ è la differenza tra le ordinate dei due punti, mentre $ \\Delta x $ è la differenza tra le ascisse.\n",
    "\n",
    "Il punto in input viene inserito usando la funzione \n",
    "```python\n",
    "input()\n",
    "```\n",
    "\n",
    "Il calcolo della distanza euclidea avviene tramite la funzione \n",
    "```python\n",
    "def euclidean(p1, p2) : \n",
    "```\n",
    "\n",
    "Tale funzione prende in input due punti e ne restituisce la distanza euclidea. Al suo interno, utilizza ```math.pow()``` e ```math.sqrt()``` per calcolare potenza di 2 e la radice quadrata.\n",
    "\n",
    "\n",
    "Ora, immaginiamo di avere il campo di calcio definito in coordinate $x \\in [0, ...,  100]$ e $y \\in [0, ... ,100]$.\n",
    "\n",
    "Dato un punto sul campo, vogliamo sapere la distanza dalla porta avversaria. Per convenzione, la porta avversaria è localizzata con le coordinate $p = (100,50) $, mentre la propria porta è localizzata al punto $p = (0,50)$\n"
   ]
  },
  {
   "cell_type": "code",
   "execution_count": 5,
   "metadata": {},
   "outputs": [
    {
     "name": "stdout",
     "output_type": "stream",
     "text": [
      "inserire un punto sul piano (formato: x,y)\n",
      "90,30\n",
      "distanza dall'origine degli assi del punto 90,30 : 103.83159442096611\n"
     ]
    }
   ],
   "source": [
    "import math\n",
    "def euclidean(p1,p2):\n",
    "    \n",
    "    deltay = p1[1] - p2[1]\n",
    "    deltax = p1[0] - p2[0]\n",
    "    \n",
    "    square_sum= math.pow(deltax,2) + math.pow(deltay , 2)\n",
    "    \n",
    "    return math.sqrt(square_sum)\n",
    "\n",
    "print(\"inserire un punto sul piano (formato: x,y)\")\n",
    "point = input()\n",
    "\n",
    "if 0 <= int(point[0]) <= 100 and 0 <= int(point[1]) <= 100:\n",
    "    distance = euclidean((int(point[0]),int(point[1])), (100,50))\n",
    "\n",
    "\n",
    "    print(\"distanza dall'origine degli assi del punto %s : %s\"%(point,distance))\n",
    "else:\n",
    "    print(\"punto non valido\")"
   ]
  }
 ],
 "metadata": {
  "hide_input": false,
  "kernelspec": {
   "display_name": "soccerChallange",
   "language": "python",
   "name": "soccerchallange"
  },
  "language_info": {
   "codemirror_mode": {
    "name": "ipython",
    "version": 3
   },
   "file_extension": ".py",
   "mimetype": "text/x-python",
   "name": "python",
   "nbconvert_exporter": "python",
   "pygments_lexer": "ipython3",
   "version": "3.5.2"
  }
 },
 "nbformat": 4,
 "nbformat_minor": 1
}
